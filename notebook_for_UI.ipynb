{
 "cells": [
  {
   "cell_type": "markdown",
   "id": "aecfa00a",
   "metadata": {},
   "source": [
    "# Jupyter Notebook: Action Client UI with Widgets"
   ]
  },
  {
   "cell_type": "markdown",
   "id": "e4d2c7b4",
   "metadata": {},
   "source": [
    "##  Imports and ROS Initialization"
   ]
  },
  {
   "cell_type": "code",
   "execution_count": null,
   "id": "d53e702d",
   "metadata": {},
   "outputs": [],
   "source": [
    "import rospy\n",
    "import actionlib\n",
    "from nav_msgs.msg import Odometry\n",
    "from assignment_2_2024.msg import PlanningAction, PlanningGoal, PlanningFeedback\n",
    "from assignment_2.msg import RobotFeedback\n",
    "from actionlib_msgs.msg import GoalStatus\n",
    "from std_srvs.srv import Trigger\n",
    "from geometry_msgs.msg import Pose\n",
    "import ipywidgets as widgets\n",
    "from IPython.display import display, clear_output\n",
    "\n",
    "rospy.init_node(\"jupyter_action_client\", anonymous=True)\n"
   ]
  },
  {
   "cell_type": "markdown",
   "id": "dc22a466",
   "metadata": {},
   "source": [
    "## Class Definition for the Action Client with Widget "
   ]
  },
  {
   "cell_type": "code",
   "execution_count": null,
   "id": "8c85731b",
   "metadata": {},
   "outputs": [],
   "source": [
    "class WidgetActionClient:\n",
    "    def __init__(self):\n",
    "        self.client = actionlib.SimpleActionClient(\"/reaching_goal\", PlanningAction)\n",
    "        self.client.wait_for_server()\n",
    "\n",
    "        self.robot_info = widgets.Label(value=\"Position: [--, --] | Velocity: [--, --] km/h\")\n",
    "        self.obstacle_dist_label = widgets.Label(value=\"Distance to closest obstacle: -- m\")\n",
    "\n",
    "        self.goals_reached = 0\n",
    "        self.goals_cancelled = 0\n",
    "\n",
    "        rospy.Subscriber(\"/odom\", Odometry, self.odom_callback)\n",
    "        self.info_pub = rospy.Publisher(\"/robot_information\", RobotFeedback, queue_size=10)\n",
    "\n",
    "        self.stat_srv = rospy.ServiceProxy(\"/goal_statistics\", Trigger)\n",
    "\n",
    "    def send_goal(self, x, y):\n",
    "        goal = PlanningGoal()\n",
    "        goal.target_pose.pose.position.x = x\n",
    "        goal.target_pose.pose.position.y = y\n",
    "        goal.target_pose.pose.orientation.w = 1.0\n",
    "\n",
    "        self.client.send_goal(goal, done_cb=self.goal_done_cb, feedback_cb=self.feedback_cb)\n",
    "\n",
    "    def cancel_goal(self, _=None):\n",
    "        if self.client.get_state() in [GoalStatus.ACTIVE, GoalStatus.PENDING]:\n",
    "            self.client.cancel_goal()\n",
    "            rospy.sleep(1.0)\n",
    "\n",
    "    def goal_done_cb(self, state, result):\n",
    "        if state == GoalStatus.SUCCEEDED:\n",
    "            self.goals_reached += 1\n",
    "        elif state in [GoalStatus.PREEMPTED, GoalStatus.RECALLED]:\n",
    "            self.goals_cancelled += 1\n",
    "\n",
    "    def feedback_cb(self, feedback):\n",
    "        pass  # You can display feedback here if desired\n",
    "\n",
    "    def odom_callback(self, msg):\n",
    "        x = msg.pose.pose.position.x\n",
    "        y = msg.pose.pose.position.y\n",
    "        vx = msg.twist.twist.linear.x * 3.6\n",
    "        vy = msg.twist.twist.linear.y * 3.6\n",
    "\n",
    "        self.robot_info.value = f\"Position: [{x:.2f}, {y:.2f}] | Velocity: [{vx:.2f}, {vy:.2f}] km/h\"\n",
    "\n",
    "        feedback = RobotFeedback(x=x, y=y, vel_x=vx, vel_y=vy, vel_z=msg.twist.twist.angular.z)\n",
    "        self.info_pub.publish(feedback)\n",
    "\n",
    "    def get_statistics(self, _=None):\n",
    "        try:\n",
    "            resp = self.stat_srv()\n",
    "            with output:\n",
    "                clear_output()\n",
    "                print(resp.message)\n",
    "        except rospy.ServiceException as e:\n",
    "            print(f\"Service call failed: {e}\")\n"
   ]
  },
  {
   "cell_type": "markdown",
   "id": "6e3d9ffc",
   "metadata": {},
   "source": [
    "## Create the UI"
   ]
  },
  {
   "cell_type": "code",
   "execution_count": null,
   "id": "bf2f7cda",
   "metadata": {},
   "outputs": [],
   "source": [
    "x_input = widgets.FloatText(description=\"X:\")\n",
    "y_input = widgets.FloatText(description=\"Y:\")\n",
    "send_btn = widgets.Button(description=\"Send Goal\", button_style='success')\n",
    "cancel_btn = widgets.Button(description=\"Cancel Goal\", button_style='danger')\n",
    "stats_btn = widgets.Button(description=\"Goal Stats\", button_style='info')\n",
    "output = widgets.Output()\n",
    "\n",
    "client = WidgetActionClient()\n",
    "\n",
    "send_btn.on_click(lambda _: client.send_goal(x_input.value, y_input.value))\n",
    "cancel_btn.on_click(client.cancel_goal)\n",
    "stats_btn.on_click(client.get_statistics)\n",
    "\n",
    "ui = widgets.VBox([\n",
    "    widgets.HBox([x_input, y_input]),\n",
    "    widgets.HBox([send_btn, cancel_btn, stats_btn]),\n",
    "    client.robot_info,\n",
    "    client.obstacle_dist_label,\n",
    "    output\n",
    "])\n",
    "\n",
    "display(ui)\n"
   ]
  }
 ],
 "metadata": {
  "kernelspec": {
   "display_name": "Python 3 (ipykernel)",
   "language": "python",
   "name": "python3"
  },
  "language_info": {
   "codemirror_mode": {
    "name": "ipython",
    "version": 3
   },
   "file_extension": ".py",
   "mimetype": "text/x-python",
   "name": "python",
   "nbconvert_exporter": "python",
   "pygments_lexer": "ipython3",
   "version": "3.8.5"
  }
 },
 "nbformat": 4,
 "nbformat_minor": 5
}
